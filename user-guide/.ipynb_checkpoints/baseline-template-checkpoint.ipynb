{
 "cells": [
  {
   "cell_type": "markdown",
   "id": "6f219fee",
   "metadata": {},
   "source": [
    "Start by importing packages. source_loc should be the folder where the source files are located. Load the data to make sure it is the right size and shape"
   ]
  },
  {
   "cell_type": "code",
   "execution_count": 10,
   "id": "c411828f",
   "metadata": {},
   "outputs": [],
   "source": [
    "import sys\n",
    "source_loc = \"/project/wyin/jlee/ml-project/source\"\n",
    "sys.path.append(source_loc)\n",
    "from utilities import baseline_errors, ProblemStatement, UnscaledData\n",
    "data_loc, X_name, y_name = ProblemStatement().prob_vars\n",
    "data = UnscaledData(data_loc, X_name, y_name, check_data = True)    #Set check_data to False to suppress output."
   ]
  },
  {
   "cell_type": "markdown",
   "id": "9900a268",
   "metadata": {},
   "source": [
    "Get the baseline error and standard deviation of error"
   ]
  },
  {
   "cell_type": "code",
   "execution_count": 9,
   "id": "e0bd2d68",
   "metadata": {},
   "outputs": [
    {
     "name": "stdout",
     "output_type": "stream",
     "text": [
      "Baseline mse error: 0.07591950520885789, standard deviation 0.04002941229232672\n"
     ]
    }
   ],
   "source": [
    "base_err, base_std = baseline_errors(data.test_y)\n",
    "print(f\"Baseline mse error: {base_err}, standard deviation {base_std}\")"
   ]
  }
 ],
 "metadata": {
  "kernelspec": {
   "display_name": "Python 3 (ipykernel)",
   "language": "python",
   "name": "python3"
  },
  "language_info": {
   "codemirror_mode": {
    "name": "ipython",
    "version": 3
   },
   "file_extension": ".py",
   "mimetype": "text/x-python",
   "name": "python",
   "nbconvert_exporter": "python",
   "pygments_lexer": "ipython3",
   "version": "3.10.4"
  }
 },
 "nbformat": 4,
 "nbformat_minor": 5
}
