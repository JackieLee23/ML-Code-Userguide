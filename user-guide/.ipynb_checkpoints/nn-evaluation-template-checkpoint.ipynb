{
 "cells": [
  {
   "cell_type": "markdown",
   "id": "59a5dd9a",
   "metadata": {},
   "source": [
    "Load packages, load data, and check that data is the correct size. For neural nets, the data should always be scaled, as the models are trained on scaled data"
   ]
  },
  {
   "cell_type": "code",
   "execution_count": 3,
   "id": "6ef86269",
   "metadata": {},
   "outputs": [
    {
     "name": "stdout",
     "output_type": "stream",
     "text": [
      "Double checking dataset sizes:\n",
      "\n",
      "Training set x size: (25534, 354). Training set y size: (25534, 3)\n",
      "\n",
      "validation set x size: (3103, 354). Validation set y size: (3103, 3)\n",
      "\n",
      "Testing set x size: (3238, 354). Testing set y size: (3238, 3)\n",
      "\n"
     ]
    }
   ],
   "source": [
    "import sys\n",
    "import numpy as np\n",
    "source_loc = \"/project/wyin/jlee/ml-project/source\"\n",
    "sys.path.append(source_loc)\n",
    "from utilities import ProblemStatement, see_results, ScaledData, get_model, get_prediction\n",
    "data_loc, X_name, y_name = ProblemStatement().prob_vars\n",
    "data = ScaledData(data_loc, X_name, y_name, check_data = True)    #Set check_data to False to suppress output."
   ]
  },
  {
   "cell_type": "markdown",
   "id": "6d013b09",
   "metadata": {},
   "source": [
    "model_path should be the path to the subdirectory containing the neural net you want to test, inside the log folder for a grid search. You can get the path to the best model for any grid search using order_validation - see the nn-hparam-template for details."
   ]
  },
  {
   "cell_type": "code",
   "execution_count": 4,
   "id": "0e561037",
   "metadata": {},
   "outputs": [
    {
     "ename": "NameError",
     "evalue": "name 'os' is not defined",
     "output_type": "error",
     "traceback": [
      "\u001b[0;31m---------------------------------------------------------------------------\u001b[0m",
      "\u001b[0;31mNameError\u001b[0m                                 Traceback (most recent call last)",
      "Input \u001b[0;32mIn [4]\u001b[0m, in \u001b[0;36m<cell line: 1>\u001b[0;34m()\u001b[0m\n\u001b[0;32m----> 1\u001b[0m model_path \u001b[38;5;241m=\u001b[39m \u001b[43mos\u001b[49m\u001b[38;5;241m.\u001b[39mpath\u001b[38;5;241m.\u001b[39mjoin(root,\n\u001b[1;32m      2\u001b[0m \u001b[38;5;124m\"\u001b[39m\u001b[38;5;124mdispersion-inverse/neural-nets/hyperparameter-search/logs/arch-search-30-min-2/[193, 158, 127, 96, 65, 34, 3],0.005,512,0.5\u001b[39m\u001b[38;5;124m\"\u001b[39m)\n\u001b[1;32m      3\u001b[0m model \u001b[38;5;241m=\u001b[39m get_model(model_path)\n",
      "\u001b[0;31mNameError\u001b[0m: name 'os' is not defined"
     ]
    }
   ],
   "source": [
    "model_path = os.path.join(root,\n",
    "\"dispersion-inverse/neural-nets/hyperparameter-search/logs/arch-search-30-min-2/[193, 158, 127, 96, 65, 34, 3],0.005,512,0.5\")\n",
    "model = get_model(model_path)"
   ]
  },
  {
   "cell_type": "markdown",
   "id": "0ee4e1a8",
   "metadata": {},
   "source": [
    "Get the predicted values on the test set"
   ]
  },
  {
   "cell_type": "code",
   "execution_count": null,
   "id": "f3d0d29d",
   "metadata": {},
   "outputs": [],
   "source": []
  }
 ],
 "metadata": {
  "kernelspec": {
   "display_name": "Python 3 (ipykernel)",
   "language": "python",
   "name": "python3"
  },
  "language_info": {
   "codemirror_mode": {
    "name": "ipython",
    "version": 3
   },
   "file_extension": ".py",
   "mimetype": "text/x-python",
   "name": "python",
   "nbconvert_exporter": "python",
   "pygments_lexer": "ipython3",
   "version": "3.10.4"
  }
 },
 "nbformat": 4,
 "nbformat_minor": 5
}
