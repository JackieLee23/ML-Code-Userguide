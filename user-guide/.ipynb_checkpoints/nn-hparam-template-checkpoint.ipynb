{
 "cells": [
  {
   "cell_type": "code",
   "execution_count": 39,
   "id": "a1d0669b",
   "metadata": {},
   "outputs": [
    {
     "name": "stdout",
     "output_type": "stream",
     "text": [
      "Double checking dataset sizes:\n",
      "\n",
      "Training set x size: (25534, 354). Training set y size: (25534, 3)\n",
      "\n",
      "validation set x size: (3103, 354). Validation set y size: (3103, 3)\n",
      "\n",
      "Testing set x size: (3238, 354). Testing set y size: (3238, 3)\n",
      "\n"
     ]
    }
   ],
   "source": [
    "import sys\n",
    "import os\n",
    "import numpy as np\n",
    "import pickle\n",
    "source_loc = \"/project/wyin/jlee/ml-project/source\"\n",
    "sys.path.append(source_loc)\n",
    "from utilities import ProblemStatement, UnscaledData, ScaledData, order_validation\n",
    "\n",
    "data_loc, X_name, y_name = ProblemStatement().prob_vars\n",
    "data = ScaledData(data_loc, X_name, y_name, check_data = True)    #Set check_data to False to suppress output."
   ]
  },
  {
   "cell_type": "markdown",
   "id": "43480253",
   "metadata": {},
   "source": [
    "Create the hyperparameter folder if it doesn't exist yet"
   ]
  },
  {
   "cell_type": "code",
   "execution_count": 40,
   "id": "a14019fd",
   "metadata": {},
   "outputs": [],
   "source": [
    "if not os.path.exists(\"hyperparameters\"):\n",
    "    os.mkdir(\"hyperparameters\")"
   ]
  },
  {
   "cell_type": "markdown",
   "id": "5e51cce0",
   "metadata": {},
   "source": [
    "Name this grid search run, and whether to save the resulting models.\n",
    "Set hyperparameters for grid search here: \n",
    "\n",
    "1. layer_sizes: Architecture of the network, set as a list of lists, with each list element representing the sequential neuron numbers in each layer\n",
    "2. learning_rate: Set as list of starting learning rates\n",
    "3. batch_size: Set as list of batch sizes\n",
    "4. schedule_factor: Set as list of factors. Factor determines how much the learning rate reduces on loss plateau\n",
    "5. max_time: Set as \"DD:HH:MM:SS\" string"
   ]
  },
  {
   "cell_type": "code",
   "execution_count": 36,
   "id": "32eeb539",
   "metadata": {},
   "outputs": [],
   "source": [
    "run_name = \"search-1\"\n",
    "save_models = False\n",
    "\n",
    "layer_sizes = [[354, 256, 128, 64, 32, 3], [354, 256, 140, 50, 3]]\n",
    "learning_rate = [0.001, 0.005, 0.01]\n",
    "batch_size = [128, 256]\n",
    "schedule_factor = [0.2, 0.5]\n",
    "max_time = \"00:00:00:30\""
   ]
  },
  {
   "cell_type": "markdown",
   "id": "8d0c2a7a",
   "metadata": {},
   "source": [
    "Save the settings for the grid search to a pickle file."
   ]
  },
  {
   "cell_type": "code",
   "execution_count": 37,
   "id": "fd71001b",
   "metadata": {},
   "outputs": [],
   "source": [
    "f = open(\"hyperparameters/grid-search\",\"wb\")\n",
    "\n",
    "settings = {'layer_sizes': layer_sizes, 'learning_rate': learning_rate, \n",
    "           'batch_size': batch_size, \"schedule_factor\": schedule_factor, \n",
    "            'max_time': max_time, 'run_name': run_name, 'save_models': save_models}\n",
    "pickle.dump(settings, f)\n",
    "\n",
    "f.close()"
   ]
  },
  {
   "cell_type": "markdown",
   "id": "4fa1a38a",
   "metadata": {},
   "source": [
    "To run the grid search over the neural network models, run the following from the command line in the source folder:\\\n",
    "sbatch nn-runner.sbatch {total models to run} {location of problem definition file} {hyperparameter folder} {name of run}\n",
    "<br /><br />\n",
    "To see the models training in tensorboard, run:\\\n",
    "tensorboard --logdir {hyperparameter folder}/logs/{name of run}\n",
    "<br /><br />\n",
    "You can copy the outputs of the code snippet below and run it in command line in the source folder"
   ]
  },
  {
   "cell_type": "code",
   "execution_count": 38,
   "id": "eacc7b5c",
   "metadata": {},
   "outputs": [
    {
     "name": "stdout",
     "output_type": "stream",
     "text": [
      "Run in command line to train models: \n",
      "sbatch nn-runner.sbatch 12 /project/wyin/jlee/ml-project/user-guide/problem-definition.txt /project/wyin/jlee/ml-project/user-guide/hyperparameters test-6\n",
      "\n",
      "Run in command line to see tensorboard: \n",
      "tensorboard --logdir /project/wyin/jlee/ml-project/user-guide/hyperparameters/logs/test-6\n"
     ]
    }
   ],
   "source": [
    "prob_file = os.path.join(os.getcwd(), \"problem-definition.txt\")\n",
    "hparam_loc = os.path.join(os.getcwd(), \"hyperparameters\")\n",
    "log_loc = os.path.join(hparam_loc, \"logs\", run_name)\n",
    "val_loc = os.path.join(hparam_loc, \"val-ends\", run_name)\n",
    "\n",
    "num_models = len(layer_sizes) * len(learning_rate) * len(batch_size) * len(schedule_factor)\n",
    "\n",
    "print(f\"Run in command line to train models: \\nsbatch nn-runner.sbatch {num_models} {prob_file} {hparam_loc} {run_name}\\n\")\n",
    "\n",
    "print(f\"Run in command line to see tensorboard: \\ntensorboard --logdir {log_loc}\")"
   ]
  },
  {
   "cell_type": "markdown",
   "id": "54cf0130",
   "metadata": {},
   "source": [
    "Once the models are finished training, you can see models sorted by best validation loss by using order_validation({log folder})"
   ]
  },
  {
   "cell_type": "code",
   "execution_count": 14,
   "id": "065491e6",
   "metadata": {},
   "outputs": [
    {
     "name": "stdout",
     "output_type": "stream",
     "text": [
      "model: [354, 256, 256, 256, 256, 3], 0.001, 256, 0.2, error: 6.825252057751641e-06\n",
      "model: [354, 256, 128, 64, 32, 3], 0.001, 256, 0.2, error: 8.255177817773074e-06\n",
      "model: [354, 256, 128, 64, 32, 3], 0.005, 256, 0.5, error: 8.74316810950404e-06\n",
      "model: [354, 256, 256, 256, 256, 3], 0.005, 256, 0.5, error: 1.301539123232942e-05\n",
      "model: [354, 256, 256, 256, 256, 3], 0.001, 256, 0.5, error: 1.3490256606019102e-05\n",
      "model: [354, 256, 256, 256, 256, 3], 0.001, 128, 0.5, error: 1.841873563535046e-05\n",
      "model: [354, 256, 256, 256, 256, 3], 0.001, 128, 0.2, error: 2.6329707907279953e-05\n",
      "model: [354, 256, 128, 64, 32, 3], 0.001, 128, 0.2, error: 3.4818967833416536e-05\n",
      "model: [354, 256, 256, 256, 256, 3], 0.005, 128, 0.2, error: 4.19129864894785e-05\n",
      "model: [354, 256, 128, 64, 32, 3], 0.005, 128, 0.5, error: 4.274169623386115e-05\n",
      "model: [354, 256, 256, 256, 256, 3], 0.005, 128, 0.5, error: 5.584087921306491e-05\n",
      "model: [354, 256, 256, 256, 256, 3], 0.005, 256, 0.2, error: 5.589830470853485e-05\n",
      "model: [354, 256, 128, 64, 32, 3], 0.01, 128, 0.2, error: 8.654945122543722e-05\n",
      "model: [354, 256, 128, 64, 32, 3], 0.01, 128, 0.5, error: 0.00012428901391103864\n",
      "model: [354, 256, 128, 64, 32, 3], 0.01, 256, 0.2, error: 0.00015194484149105847\n",
      "model: [354, 256, 256, 256, 256, 3], 0.01, 128, 0.5, error: 0.00017701512842904776\n",
      "model: [354, 256, 256, 256, 256, 3], 0.01, 128, 0.2, error: 0.012060829438269138\n",
      "model: [354, 256, 256, 256, 256, 3], 0.01, 256, 0.5, error: 0.012794672511518002\n",
      "model: [354, 256, 256, 256, 256, 3], 0.01, 256, 0.2, error: 0.03236553817987442\n"
     ]
    }
   ],
   "source": [
    "errors = order_validation(val_loc)\n",
    "\n",
    "for error, model in errors:\n",
    "    print(f\"model: {model}, error: {error}\")"
   ]
  }
 ],
 "metadata": {
  "kernelspec": {
   "display_name": "Python 3 (ipykernel)",
   "language": "python",
   "name": "python3"
  },
  "language_info": {
   "codemirror_mode": {
    "name": "ipython",
    "version": 3
   },
   "file_extension": ".py",
   "mimetype": "text/x-python",
   "name": "python",
   "nbconvert_exporter": "python",
   "pygments_lexer": "ipython3",
   "version": "3.10.4"
  }
 },
 "nbformat": 4,
 "nbformat_minor": 5
}
